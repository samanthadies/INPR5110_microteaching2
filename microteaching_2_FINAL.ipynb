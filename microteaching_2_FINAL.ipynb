{
 "cells": [
  {
   "cell_type": "markdown",
   "id": "4823cb5f-702d-40a5-bb68-0dd82c999dd9",
   "metadata": {},
   "source": [
    "# Hypergraphs vs. Traditional Networks"
   ]
  },
  {
   "cell_type": "markdown",
   "id": "64d075f1-5330-48e3-8d22-a0598927ade0",
   "metadata": {},
   "source": [
    "## Introduction"
   ]
  },
  {
   "cell_type": "markdown",
   "id": "e6b68762-22b6-450c-a467-ea8145ce5f9b",
   "metadata": {},
   "source": [
    "**Welcome!**\n",
    "\n",
    "In this notebook, you'll explore how hypergraphs differ from traditional pairwise networks and how those differences impact how we define and measure structural properties. By the end of this tutorial, you'll be able to:\n",
    "\n",
    "* Construct simple hypergraphs with group structure\n",
    "* Measure and compare hypergraph and pairwise network properties\n",
    "* Explain core differences between hypergraphs and traditional networks\n",
    "\n",
    "\n",
    "The notebook is organized as follows:\n",
    "* [0. Getting started](#0.-Getting-started): Instructions for installing and importing the relevant Python packages\n",
    "* [1. What is a hypergraph?](#1.-What-is-a-hypergraph?): An Introduction to hypergrahs\n",
    "* [2. Clique projection: From hypergraphs to pairwise networks](#2.-Clique-projection:-From-hypergraphs-to-pairwise-networks): How we relate and move between hypergraphs and traditional pairwise networks\n",
    "* [3. Measuring structural properties](#3.-Measuring-structural-properties): How to measure degree distributions, homophily, and clustering in hypergraphs\n",
    "* [4. Summary and exploration](#4.-Summary-and-exploration): A recap of the content of the notebook and links to additional reading\n",
    "* [5. Solutions](#5.-Solutions): Solutions to the examples embedded in the notebook"
   ]
  },
  {
   "cell_type": "markdown",
   "id": "653de194-2b30-4b11-9737-6c7724702c7a",
   "metadata": {},
   "source": [
    "## 0. Getting started"
   ]
  },
  {
   "cell_type": "markdown",
   "id": "1a2aa756-708b-453d-8763-ea51aa16c32f",
   "metadata": {},
   "source": [
    "To run this notebook, you'll need to clone the following GitHub repository: [https://github.com/moritz-laber/hypergraph-information-access-inequality.git](https://github.com/moritz-laber/hypergraph-information-access-inequality.git)\n",
    "\n",
    "Once you've cloned the repo, add this Jupyter Notebook to the main directory.\n",
    "\n",
    "You'll need to have the following packages installed in order to import the `HyperGraph` class we use throughout the notebook:"
   ]
  },
  {
   "cell_type": "code",
   "execution_count": 1,
   "id": "381fc7ef-89bb-475a-931d-cbc0db4dfcf4",
   "metadata": {},
   "outputs": [
    {
     "name": "stdout",
     "output_type": "stream",
     "text": [
      "The history saving thread hit an unexpected error (OperationalError('attempt to write a readonly database')).History will not be written to the database.\n"
     ]
    }
   ],
   "source": [
    "import copy\n",
    "import warnings\n",
    "import numpy as np\n",
    "from numpy.typing import ArrayLike\n",
    "from scipy import optimize\n",
    "import scipy.special as special\n",
    "import scipy.stats as stats\n",
    "from collections import defaultdict\n",
    "from itertools import combinations, compress\n",
    "from typing import List, Dict, Set, Union, Tuple, Callable"
   ]
  },
  {
   "cell_type": "markdown",
   "id": "0defb2f6-5b20-483a-8cc5-283fef4289a2",
   "metadata": {},
   "source": [
    "Next, import the `HyperGraph` class that we'll use:"
   ]
  },
  {
   "cell_type": "code",
   "execution_count": 2,
   "id": "d3afdc1a-ce06-487f-a7ef-7965ac2a8b0b",
   "metadata": {},
   "outputs": [],
   "source": [
    "from HyperGraph import HyperGraph"
   ]
  },
  {
   "cell_type": "markdown",
   "id": "50af38c7-5914-4820-a22c-31af953e02c2",
   "metadata": {},
   "source": [
    "Now, make sure the following libraries are installed and imported:"
   ]
  },
  {
   "cell_type": "code",
   "execution_count": 3,
   "id": "ada4cfb5-9b9a-4282-8aa7-312402d997c4",
   "metadata": {},
   "outputs": [],
   "source": [
    "import networkx as nx\n",
    "import numpy as np\n",
    "from itertools import combinations\n",
    "from collections import Counter\n",
    "import matplotlib.pyplot as plt"
   ]
  },
  {
   "cell_type": "markdown",
   "id": "b9b1f703-353d-4261-8feb-c2c3aaba58e7",
   "metadata": {},
   "source": [
    "Now you should be ready to work your way through the notebook! Enjoy!"
   ]
  },
  {
   "cell_type": "markdown",
   "id": "3570f02b-bfc1-4f8c-9efd-53d1b299c9ab",
   "metadata": {},
   "source": [
    "## 1. What is a hypergraph?"
   ]
  },
  {
   "cell_type": "markdown",
   "id": "db1694ac-0f77-494a-8cce-420f2321b98d",
   "metadata": {},
   "source": [
    "**Traditional pairwise networks** (or graphs) consist of **nodes** connected by **edges**, where each edge links exactly **two** nodes. This structure is useful for modeling **dyadic interactions**, such as friendships, emails, or phone calls.\n",
    "\n",
    "In contrast, a **hypergraph** is a generalization of a graph where edges — called **hyperedges** — can connect **any number of nodes**, not just two. Each hyperedge represents a **multi-way interaction** or **group relationship** among its member nodes.\n",
    "\n",
    "#### Formal Definition:\n",
    "\n",
    "A hypergraph $H=(\\mathcal{V},\\mathcal{E})$ is defined by:\n",
    "* A set of nodes $\\mathcal{V}$\n",
    "* A set of hyperedges $\\mathcal{E}$, where each hyperedge is a subset of $\\mathcal{V}$ (i.e., $e \\subseteq V$, and $∣e∣\\geq 2$)\n",
    "\n",
    "This structure allows hypergraphs to capture **higher-order interactions** that cannot be fully represented using only pairwise edges.\n",
    "\n",
    "#### Why Use Hypergraphs?\n",
    "\n",
    "Hypergraphs are especially useful when:\n",
    "* Relationships naturally involve **groups of entities** rather than pairs.\n",
    "* The **context** of a group interaction matters (e.g., being in a group chat is not equivalent to having individual conversations with each participant).\n",
    "* You want to preserve **co-membership** information (e.g., all authors of a paper, all users in a shared thread, all participants in a meeting).\n",
    "\n",
    "#### Examples:\n",
    "\n",
    "| Scenario                       | Pairwise Network                | Hypergraph                            |\n",
    "|-------------------------------|----------------------------------|----------------------------------------|\n",
    "| Slack workspace               | Edges between DMs               | Each channel = one hyperedge           |\n",
    "| Academic co-authorship        | Edges between coauthors         | Each paper = one hyperedge             |\n",
    "| Group project participation   | Edges between teammates         | Each project team = one hyperedge      |\n",
    "| Biology: protein complexes    | Edges between interacting pairs | Each complex = one hyperedge           |"
   ]
  },
  {
   "cell_type": "markdown",
   "id": "bb0bf4ac-9aa8-491b-a533-255f6522dbe5",
   "metadata": {},
   "source": [
    "### So, how can we create a hypergraph?\n",
    "\n",
    "Let's create a hypergrpah with 6 nodes that belong to two groups. Nodes 0, 1, 2, and 3 belong to group 0, while nodes 4 and 5 belong to group 1.\n",
    "\n",
    "We'll then create three hyperedges: {0, 1, 2}, {2, 3, 4}, and {1, 4, 5}.\n",
    "\n",
    "In this example, everyone is joining between one and two hyperedges of size 3."
   ]
  },
  {
   "cell_type": "code",
   "execution_count": 4,
   "id": "2b76e320-f995-4008-9b0e-6ccab46556d5",
   "metadata": {},
   "outputs": [],
   "source": [
    "# Define nodes and group memberships (e.g., 0 = majority, 1 = minority)\n",
    "nodes = list(range(6))\n",
    "group = [0, 0, 0, 0, 1, 1]\n",
    "\n",
    "# Define hyperedges (as sets or tuples of nodes)\n",
    "edges = [\n",
    "    {0, 1, 2},\n",
    "    {2, 3, 4},\n",
    "    {1, 4, 5}\n",
    "]\n",
    "\n",
    "# Create the hypergraph\n",
    "H = HyperGraph(nodes=nodes, edges=edges, group=group)"
   ]
  },
  {
   "cell_type": "markdown",
   "id": "aff60db4-b8f1-4f4f-9dd7-e92ccbdbc1e1",
   "metadata": {},
   "source": [
    "**Exercise 1.1:** Try modifying the group memberships or edge structure. What happens if you add a 4-node edge?"
   ]
  },
  {
   "cell_type": "markdown",
   "id": "5f1a693f-315d-4508-82a1-3ba09ac0dfb7",
   "metadata": {},
   "source": [
    "## 2. Clique projection: From hypergraphs to pairwise networks"
   ]
  },
  {
   "cell_type": "markdown",
   "id": "5ec3057e-82fb-40d7-8ebf-1b98cf560a68",
   "metadata": {},
   "source": [
    "Sometimes, we want to compare a hypergraph to its pairwise counterpart.\n",
    "\n",
    "In a **clique projection**, we convert a hypergraph into a traditional network by replacing each hyperedge with a clique, that is, by connecting every pair of nodes that appear together in the same hyperedge with a pairwise edge.\n",
    "\n",
    "This allows us to compare a hypergraph to a more familiar graph structure, but it's important to note:\n",
    "* **Structural information is lost:** We no longer know whether the original connection came from a large group or multiple small ones.\n",
    "* **Edge multiplicity** is not preserved unless explicitly stored.\n",
    "* **Measures like degree, homophily, or clustering** can behave very differently in the projection."
   ]
  },
  {
   "cell_type": "code",
   "execution_count": 5,
   "id": "d350da56-e562-4acf-a48a-cb4c303f6a17",
   "metadata": {},
   "outputs": [],
   "source": [
    "# Generate the clique projection\n",
    "G = H.clique_projection()"
   ]
  },
  {
   "cell_type": "markdown",
   "id": "ceb6843a-3def-4e88-8e5a-a513250b5a89",
   "metadata": {},
   "source": [
    "In our example, this clique projection translates our size-3 hyperedges into edges between two people. For example, the hyperedge {0, 1, 2} becomes three edges: 0-1, 0-2, and 1-2."
   ]
  },
  {
   "cell_type": "markdown",
   "id": "da81bc58-82bf-4d6e-b40e-dda5ad821e86",
   "metadata": {},
   "source": [
    "### But how do they look?"
   ]
  },
  {
   "cell_type": "code",
   "execution_count": 6,
   "id": "ede213c3-9a98-4fb4-a580-08b19aa5fd4d",
   "metadata": {},
   "outputs": [
    {
     "data": {
      "image/png": "[encoded data removed]",
      "text/plain": [
       "<Figure size 600x400 with 1 Axes>"
      ]
     },
     "metadata": {},
     "output_type": "display_data"
    },
    {
     "data": {
      "image/png": "[encoded data removed]",
      "text/plain": [
       "<Figure size 600x400 with 1 Axes>"
      ]
     },
     "metadata": {},
     "output_type": "display_data"
    }
   ],
   "source": [
    "# Visualize the hypergraph (as nodes grouped into colored hyperedges)\n",
    "def plot_hypergraph(H, title=\"Hypergraph\"):\n",
    "    plt.figure(figsize=(6, 4))\n",
    "    G = nx.Graph()\n",
    "    G.add_nodes_from(H.nodes)\n",
    "    \n",
    "    pos = nx.spring_layout(G, seed=42)  # layout for visual consistency\n",
    "    \n",
    "    # draw nodes\n",
    "    color_map = ['skyblue' if H.group[i] == 0 else 'lightcoral' for i in H.nodes]\n",
    "    nx.draw_networkx_nodes(G, pos, node_color=color_map, node_size=500)\n",
    "    nx.draw_networkx_labels(G, pos)\n",
    "    \n",
    "    # draw hyperedges as colored convex hulls\n",
    "    for i, e in enumerate(H.edges):\n",
    "        pts = np.array([pos[n] for n in e])\n",
    "        centroid = pts.mean(axis=0)\n",
    "        for n in e:\n",
    "            G.add_edge(n, n)  # self-loop placeholder to show isolated nodes\n",
    "        for u, v in combinations(e, 2):\n",
    "            G.add_edge(u, v)  # ghost edges just for layout\n",
    "\n",
    "        hull_color = f\"C{i % 10}\"\n",
    "        plt.fill(*zip(*pts), alpha=0.2, color=hull_color, label=f\"Edge {i+1}\")\n",
    "    \n",
    "    plt.title(title)\n",
    "    plt.axis('off')\n",
    "    plt.show()\n",
    "\n",
    "# Visualize the clique projection\n",
    "def plot_projection(H_proj, title=\"Clique Projection\"):\n",
    "    plt.figure(figsize=(6, 4))\n",
    "    G_proj = nx.Graph()\n",
    "    G_proj.add_nodes_from(H_proj.nodes)\n",
    "    G_proj.add_edges_from(H_proj.edges)\n",
    "    \n",
    "    pos = nx.spring_layout(G_proj, seed=42)\n",
    "    color_map = ['skyblue' if H_proj.group[i] == 0 else 'lightcoral' for i in H_proj.nodes]\n",
    "    nx.draw(G_proj, pos, with_labels=True, node_color=color_map, node_size=500)\n",
    "    plt.title(title)\n",
    "    plt.axis('off')\n",
    "    plt.show()\n",
    "\n",
    "# Plot both side by side\n",
    "plot_hypergraph(H, title=\"Original Hypergraph\")\n",
    "H_proj = H.clique_projection()\n",
    "plot_projection(H_proj, title=\"Pairwise Network (Clique Projection)\")"
   ]
  },
  {
   "cell_type": "markdown",
   "id": "02d75d4b-a568-4ece-b620-52ee2ecd5584",
   "metadata": {},
   "source": [
    "## 3. Measuring structural properties"
   ]
  },
  {
   "cell_type": "markdown",
   "id": "f969dd08-0359-43b7-b908-90b81f3d4994",
   "metadata": {},
   "source": [
    "Let’s explore some common structural properties — and how they differ from traditional networks."
   ]
  },
  {
   "cell_type": "markdown",
   "id": "30a47477-1641-48a7-bb4b-a912ca2dd577",
   "metadata": {},
   "source": [
    "### Degree"
   ]
  },
  {
   "cell_type": "markdown",
   "id": "4a76fe79-e289-4260-8b7a-a029f21826c0",
   "metadata": {},
   "source": [
    "In network analysis, the **degree** of a node is the number of edges it participates in. In other words, it can capture information such as how many people you've had a conversation with on Slack in a Slack communication network, how many people you've written papers with in an academic co-authorship network, or how many proteins co-occur with each other in a set of molecules.\n",
    "\n",
    "* In a **pairwise network**, degree counts the number of neighbors (i.e., adjacent nodes).\n",
    "* In a **hypergraph**, degree counts the number of hyperedges a node belongs to — not the number of neighbors.\n",
    "\n",
    "This distinction is *important*: a single hyperedge might connect a node to several others, but the node's degree will only increase by 1."
   ]
  },
  {
   "cell_type": "markdown",
   "id": "72aee3da-73a6-4078-b01f-cf3c233ddd82",
   "metadata": {},
   "source": [
    "#### Hypergraph"
   ]
  },
  {
   "cell_type": "markdown",
   "id": "0b9125fb-faf0-4edf-8941-1041c6c664e5",
   "metadata": {},
   "source": [
    "We can calculate and print the degree of each of the nodes in the hypergraph as follows:"
   ]
  },
  {
   "cell_type": "code",
   "execution_count": 7,
   "id": "d2c109ba-afd6-4473-8e7c-5e5e1f67296f",
   "metadata": {},
   "outputs": [
    {
     "name": "stdout",
     "output_type": "stream",
     "text": [
      "Node 0: degree = 1\n",
      "Node 1: degree = 2\n",
      "Node 2: degree = 2\n",
      "Node 3: degree = 1\n",
      "Node 4: degree = 2\n",
      "Node 5: degree = 1\n"
     ]
    }
   ],
   "source": [
    "# Node degree in the clique projection\n",
    "for node in nodes:\n",
    "    print(f\"Node {node}: degree = {H.degree[node]}\")"
   ]
  },
  {
   "cell_type": "markdown",
   "id": "fa70653a-3a7d-4bb2-a038-dbff03171805",
   "metadata": {},
   "source": [
    "We can even use a histogram to plot the degree distribution."
   ]
  },
  {
   "cell_type": "code",
   "execution_count": 8,
   "id": "6e4d90ea-089b-4f0b-883c-74e89a19be55",
   "metadata": {},
   "outputs": [
    {
     "data": {
      "image/png": "[encoded data removed]",
      "text/plain": [
       "<Figure size 500x300 with 1 Axes>"
      ]
     },
     "metadata": {},
     "output_type": "display_data"
    }
   ],
   "source": [
    "# Get degrees and count how many nodes have each degree\n",
    "hyper_degrees = [H.degree[n] for n in nodes]\n",
    "\n",
    "# Plot histogram of degree distribution\n",
    "plt.figure(figsize=(5, 3))\n",
    "plt.hist(hyper_degrees, bins=range(min(hyper_degrees), max(hyper_degrees)+2), color='mediumpurple', edgecolor='black', align='left')\n",
    "plt.xlabel(\"Degree\")\n",
    "plt.ylabel(\"Number of Nodes\")\n",
    "plt.title(\"Degree Distribution in Hypergraph\")\n",
    "plt.xticks(range(min(hyper_degrees), max(hyper_degrees)+1))\n",
    "plt.show()"
   ]
  },
  {
   "cell_type": "markdown",
   "id": "019457d3-29e2-4737-bc74-3750651eade9",
   "metadata": {},
   "source": [
    "#### Clique projection"
   ]
  },
  {
   "cell_type": "markdown",
   "id": "86b4cefb-90a3-497a-aa96-f8af3368aa66",
   "metadata": {},
   "source": [
    "Like with the hypergraph, we can get the degree of each individual node with the built-in `degree()` method:"
   ]
  },
  {
   "cell_type": "code",
   "execution_count": 9,
   "id": "9beac09b-02b3-43f2-98bf-8bad43401ff2",
   "metadata": {},
   "outputs": [
    {
     "name": "stdout",
     "output_type": "stream",
     "text": [
      "Node 0: degree = 2\n",
      "Node 1: degree = 4\n",
      "Node 2: degree = 4\n",
      "Node 3: degree = 2\n",
      "Node 4: degree = 4\n",
      "Node 5: degree = 2\n"
     ]
    }
   ],
   "source": [
    "# Node degree in the clique projection\n",
    "for node in nodes:\n",
    "    print(f\"Node {node}: degree = {G.degree[node]}\")"
   ]
  },
  {
   "cell_type": "code",
   "execution_count": 10,
   "id": "a438b12e-adbe-4944-b4bb-2fa6e6f26437",
   "metadata": {},
   "outputs": [
    {
     "data": {
      "image/png": "[encoded data removed]",
      "text/plain": [
       "<Figure size 500x300 with 1 Axes>"
      ]
     },
     "metadata": {},
     "output_type": "display_data"
    }
   ],
   "source": [
    "# Get degrees and count how many nodes have each degree\n",
    "network_degrees = [G.degree[n] for n in nodes]\n",
    "\n",
    "# Plot histogram of degree distribution\n",
    "plt.figure(figsize=(5, 3))\n",
    "plt.hist(network_degrees, bins=range(min(network_degrees), max(network_degrees)+2), color='mediumpurple', edgecolor='black', align='left')\n",
    "plt.xlabel(\"Degree\")\n",
    "plt.ylabel(\"Number of Nodes\")\n",
    "plt.title(\"Degree Distribution in Clique Projection\")\n",
    "plt.xticks(range(min(network_degrees), max(network_degrees)+1))\n",
    "plt.show()"
   ]
  },
  {
   "cell_type": "markdown",
   "id": "3735ecbb-4dcc-4eb4-bacd-57656c59367f",
   "metadata": {},
   "source": [
    "#### Let's compare..."
   ]
  },
  {
   "cell_type": "markdown",
   "id": "af4e1c78-e079-4cae-8fda-c3c0f502194f",
   "metadata": {},
   "source": [
    "In addition to the degrees of each individual node, we can calculate compare the average degree of the hypergraph to the average degree of the pairwise network:"
   ]
  },
  {
   "cell_type": "code",
   "execution_count": 11,
   "id": "d9f5bcaa-c769-474a-a998-1be5b29318d9",
   "metadata": {},
   "outputs": [
    {
     "name": "stdout",
     "output_type": "stream",
     "text": [
      "Hypergraph avg degree: 1.50\n",
      "Clique projection avg degree: 3.00\n"
     ]
    }
   ],
   "source": [
    "# Compare average degree in hypergraph and clique projection\n",
    "hypergraph_avg_deg = sum(H.degree.values()) / H.N\n",
    "network_avg_deg = sum(G.degree.values()) / G.N\n",
    "\n",
    "print(f\"Hypergraph avg degree: {hypergraph_avg_deg:.2f}\")\n",
    "print(f\"Clique projection avg degree: {network_avg_deg:.2f}\")"
   ]
  },
  {
   "cell_type": "markdown",
   "id": "af5e252e-a6ef-4374-8fa6-b3a3871018d2",
   "metadata": {},
   "source": [
    "**Exercise 3.1:** Is the hypergraph average degree larger or smaller than the clique projection average degree? Why might that be?"
   ]
  },
  {
   "cell_type": "markdown",
   "id": "f2050722-c77c-43ec-b193-2c9fda933dd5",
   "metadata": {},
   "source": [
    "**Exercise 3.2:** In a pairwise network, the maximum potential degree of a node is $n-1$ (i.e., if it connects to all other nodes in the network. What's the maximum potential degree of a node in a hypergraph?"
   ]
  },
  {
   "cell_type": "markdown",
   "id": "e81a0975-9e42-4cb3-8fae-0497596783c4",
   "metadata": {},
   "source": [
    "### Homophily"
   ]
  },
  {
   "cell_type": "markdown",
   "id": "fdd3d345-b708-46d0-94ac-b962b54080ad",
   "metadata": {},
   "source": [
    "While the avergae degree per node is different between the hypergraph and its clique projection, there doesn't appear do be a difference in average degree between groups. However, we can explore whether group membership affects which edges and hyperedges are formed using **homophily**.\n",
    "\n",
    "On **pairwise networks**, **homophily** refers to the tendency of nodes to connect with others who are similar to them (e.g., same group). One common metric is:\n",
    "\n",
    "$$h = \\frac{\\text{\\# same-group edges}}{\\text{total \\# of edges}}$$\n",
    "\n",
    "This is related to the idea of **dyadicity**, introduced in Park and Barabási (2007), which compares the observed count of same-group edges to a random baseline:\n",
    "\n",
    "$$D = \\frac{e_{ss}}{e_{ss}^{\\text{null}}}$$\n",
    "\n",
    "Where $e_{ss}$ is the observed number of edges between same-group nodes, and $e_{ss}^{\\text{null}}$ is the expected number under a random rewiring that preserves node degrees and group sizes.\n",
    "\n",
    "*Citation:*  \n",
    "[Park, J., & Barabási, A.-L. (2007). Distribution of node characteristics in complex networks. *Proceedings of the National Academy of Sciences*, 104(46), 17916–17920.](https://www.pnas.org/doi/abs/10.1073/pnas.0705081104)"
   ]
  },
  {
   "cell_type": "markdown",
   "id": "93255e37-7150-4851-b109-e9da3077a982",
   "metadata": {},
   "source": [
    "We’ll now extend this idea to **hypergraphs**, where edges can contain more than two nodes.\n",
    "\n",
    "We’ll use the definition of homophily introduced by Veldt, Kleinberg, and Benson (2023):\n",
    "\n",
    "**Hyperedge Homophily** compares the *affinity* of a group to participate in hyperedges with others from their group, relative to a null model. The null model assumes nodes are sampled independently according to group proportions.\n",
    "\n",
    "For group $g \\in \\{0, 1\\}$, hyperedge size $s$, and group count $r$ (i.e., $r$ members of group $g$ in a $s$-node edge), the homophily score is:\n",
    "\n",
    "$$H^g_{s, r} = \\frac{\\text{Observed affinity for group } g}{\\text{Baseline affinity for group } g}$$\n",
    "\n",
    "A value of $H^g_{s, r} > 1$ means group $g$ participates in more edges of type $(s, t)$ than expected under random mixing.\n",
    "\n",
    "*Citation:*  \n",
    "[Veldt, N., Benson, A.-R. & Kleinberg, J. (2023). *Combinatorial characterizations and impossibilities for higher-order homophily*. Science Advances.](https://www.science.org/doi/full/10.1126/sciadv.abq3200)"
   ]
  },
  {
   "cell_type": "markdown",
   "id": "45fdcafa-4ace-4c1b-b667-4eb272c3cdd0",
   "metadata": {},
   "source": [
    "#### Hypergraph"
   ]
  },
  {
   "cell_type": "markdown",
   "id": "e22ffc9f-0833-4f0e-b00e-f93b3f54fc1a",
   "metadata": {},
   "source": [
    "We can calculate the homophily of our hypergraph with the built in `homophily()` method and print the scores as follows:"
   ]
  },
  {
   "cell_type": "code",
   "execution_count": 12,
   "id": "35d876b6-f9a3-4c9d-b1ff-29892c50796a",
   "metadata": {},
   "outputs": [
    {
     "name": "stdout",
     "output_type": "stream",
     "text": [
      "Size  | Group 0                                       | Group 1                                      \n",
      "------------------------------------------------------------------------------------------------------\n",
      "3     | -    1.50 0.75 1.12                           | -    0.75 1.50 -                             \n"
     ]
    }
   ],
   "source": [
    "homophily_scores = H.homophily()\n",
    "\n",
    "# Print hyperedge homophily for each hyperedge size and type\n",
    "all_sizes = sorted(set(homophily_scores[0].keys()) | set(homophily_scores[1].keys()))\n",
    "col_width = 45\n",
    "\n",
    "print(f\"{'Size':<5} | {'Group 0':<{col_width}} | {'Group 1':<{col_width}}\")\n",
    "print(\"-\" * (7 + 2 + col_width + 3 + col_width))\n",
    "\n",
    "for k in all_sizes:\n",
    "    vec0 = []\n",
    "    vec1 = []\n",
    "\n",
    "    for i in range(k + 1):\n",
    "        val0 = homophily_scores[0].get(k, {}).get(i, '-   ')\n",
    "        val1 = homophily_scores[1].get(k, {}).get(i, '-   ')\n",
    "\n",
    "        vec0.append(f\"{val0:.2f}\" if isinstance(val0, float) else val0)\n",
    "        vec1.append(f\"{val1:.2f}\" if isinstance(val1, float) else val1)\n",
    "\n",
    "    vec0_str = \" \".join(vec0)\n",
    "    vec1_str = \" \".join(vec1)\n",
    "\n",
    "    print(f\"{k:<5} | {vec0_str:<{col_width}} | {vec1_str:<{col_width}}\")"
   ]
  },
  {
   "cell_type": "markdown",
   "id": "0a1b0e18-bea1-4f52-8bf0-bfedaee4a0f1",
   "metadata": {},
   "source": [
    "**Exercise 3.3:** How can we interpret these homophily scores? Are interactions more homogenous (within-group) or heterogeneous?"
   ]
  },
  {
   "cell_type": "markdown",
   "id": "bce9d5ae-03fc-49af-90b6-e26889113421",
   "metadata": {},
   "source": [
    "#### Clique projection"
   ]
  },
  {
   "cell_type": "markdown",
   "id": "0a3765f3-7bd7-4dce-a55f-acf3d18f46ef",
   "metadata": {},
   "source": [
    "We can use the same built-in `homophily()` method on our clique projection to measure the pairwise homophily."
   ]
  },
  {
   "cell_type": "code",
   "execution_count": 13,
   "id": "61e73e19-da56-44ee-b901-434c32d25c08",
   "metadata": {},
   "outputs": [
    {
     "name": "stdout",
     "output_type": "stream",
     "text": [
      "Size  | Group 0                                       | Group 1                                      \n",
      "------------------------------------------------------------------------------------------------------\n",
      "2     | -    1.00 1.00                                | -    1.00 1.00                               \n"
     ]
    }
   ],
   "source": [
    "homophily_scores = G.homophily()\n",
    "\n",
    "# Print hyperedge homophily for each hyperedge size and type\n",
    "all_sizes = sorted(set(homophily_scores[0].keys()) | set(homophily_scores[1].keys()))\n",
    "col_width = 45\n",
    "\n",
    "print(f\"{'Size':<5} | {'Group 0':<{col_width}} | {'Group 1':<{col_width}}\")\n",
    "print(\"-\" * (7 + 2 + col_width + 3 + col_width))\n",
    "\n",
    "for k in all_sizes:\n",
    "    vec0 = []\n",
    "    vec1 = []\n",
    "\n",
    "    for i in range(k + 1):\n",
    "        val0 = homophily_scores[0].get(k, {}).get(i, '-   ')\n",
    "        val1 = homophily_scores[1].get(k, {}).get(i, '-   ')\n",
    "\n",
    "        vec0.append(f\"{val0:.2f}\" if isinstance(val0, float) else val0)\n",
    "        vec1.append(f\"{val1:.2f}\" if isinstance(val1, float) else val1)\n",
    "\n",
    "    vec0_str = \" \".join(vec0)\n",
    "    vec1_str = \" \".join(vec1)\n",
    "\n",
    "    print(f\"{k:<5} | {vec0_str:<{col_width}} | {vec1_str:<{col_width}}\")"
   ]
  },
  {
   "cell_type": "markdown",
   "id": "e6fdc4a4-477d-4d8a-b8be-f45be168a624",
   "metadata": {},
   "source": [
    "#### Let's compare..."
   ]
  },
  {
   "cell_type": "markdown",
   "id": "f9e09811-d854-4c73-afd7-4d3624022d57",
   "metadata": {},
   "source": [
    "**Exercise 3.4:** What are the differences between the homophily scores on the hypergraph and the clique projection?"
   ]
  },
  {
   "cell_type": "markdown",
   "id": "f38e0d2b-1f49-4565-9191-efb7d418e11f",
   "metadata": {},
   "source": [
    "**Exercise 3.5:** Is the clique projection more or less homophilous than the hypergraph?"
   ]
  },
  {
   "cell_type": "markdown",
   "id": "742a07e3-f999-428a-82c4-70692abcd81e",
   "metadata": {},
   "source": [
    "### Clustering coefficient"
   ]
  },
  {
   "cell_type": "markdown",
   "id": "13d89eba-b370-42bf-bf65-b25520d2af2d",
   "metadata": {},
   "source": [
    "We've now shown that, even though group membership doesn't seem to impact the average degree of our nodes, group membership appears to have an impact on which types of edges are formed. Let's take this a step further and explore whether this leads to fundamental differences in the communities (also called neighborhoods) in our hypergraph and its clique projection.\n",
    "\n",
    "The **clustering coefficient** is a local measure that quantifies how tightly connected a node’s neighbors are. It helps us understand the extent to which information or influence might circulate within small groups of nodes.\n",
    "\n",
    "In a traditional network (graph), the **local clustering coefficient** of a node $v_i$ is defined as:\n",
    "\n",
    "$$c_i = \\frac{2\\mu_i}{k_i(k_i - 1)}$$\n",
    "\n",
    "where:\n",
    "* $k_i$ is the degree of node $v_i$\n",
    "* $\\mu_i$ is the number of edges between the neighbors of $v_i$\n",
    "\n",
    "This measure captures the number of **triangles** node $v_i$ participates in, normalized by the number of triangles that could possibly form among its neighbors."
   ]
  },
  {
   "cell_type": "markdown",
   "id": "2e01111d-c9cb-45d1-a58e-818cf048bfc1",
   "metadata": {},
   "source": [
    "In a hypergraph, we want to measure how **connected a node’s neighbors are without using the node itself** to create those connections.\n",
    "\n",
    "To do this, we define the **Extra Overlap** between two hyperedges $e_j$ and $e_k$ that both include a node $v_i$:\n",
    "\n",
    "$$\\text{EO}(e_j, e_k) = \\frac{\n",
    "\\left| N(D_{j,k}) \\cap D_{k,j} \\right| + \\left| D_{j,k} \\cap N(D_{k,j}) \\right|\n",
    "}{\n",
    "\\left| D_{j,k} \\right| + \\left| D_{k,j} \\right|\n",
    "}$$\n",
    "\n",
    "where:\n",
    "* $D_{j,k} = e_j \\setminus e_k$\n",
    "* $N(U)$ is the set of neighbors of nodes in set $U$ via hyperedges that **do not** include $v_i$\n",
    "\n",
    "The **hypergraph clustering coefficient** of node $v_i$ is then:\n",
    "\n",
    "$$\n",
    "C_H(v_i) =\n",
    "\\begin{cases}\n",
    "\\frac{1}{|M(v_i)|^2} \\sum\\limits_{e_j, e_k \\in M(v_i)} \\text{EO}(e_j, e_k) & \\text{if } d_H(v_i) > 1 \\\\\n",
    "0 & \\text{if } d_H(v_i) = 1\n",
    "\\end{cases}\n",
    "$$\n",
    "\n",
    "where:\n",
    "* $M(v_i)$ is the set of hyperedges that include $v_i$\n",
    "* $d_H(v_i) = |M(v_i)|$ is the degree of node $v_i$\n",
    "\n",
    "This definition is consistent with the graph clustering coefficient when all hyperedges have size 2.\n",
    "\n",
    "*Citation:*  \n",
    "[Torres, L., Blevins, A. S., Bassett, D. S., & Eliassi-Rad, T. (2021). *The Why, How, and When of Representations for Complex Systems*. SIAM Review, 63(3), 435–485.](https://epubs.siam.org/doi/abs/10.1137/20M1355896)"
   ]
  },
  {
   "cell_type": "markdown",
   "id": "7989246e-5686-49b5-b989-5ddf495f7ddf",
   "metadata": {},
   "source": [
    "#### Hypergraph"
   ]
  },
  {
   "cell_type": "code",
   "execution_count": 14,
   "id": "224360bf-92e2-4a98-b7d1-d3b72188ac1f",
   "metadata": {},
   "outputs": [
    {
     "name": "stdout",
     "output_type": "stream",
     "text": [
      "Node | Hypergraph Clustering\n",
      "   0 | 0.00\n",
      "   1 | 0.12\n",
      "   2 | 0.12\n",
      "   3 | 0.00\n",
      "   4 | 0.12\n",
      "   5 | 0.00\n"
     ]
    }
   ],
   "source": [
    "# Compute CH(vi) for each node using the Extra Overlap definition\n",
    "\n",
    "def extra_overlap(ej, ek, H, vi):\n",
    "    Djk = set(ej) - set(ek)\n",
    "    Dkj = set(ek) - set(ej)\n",
    "\n",
    "    Nj = set(u for d in Djk for e in H.incidence[d] if e != ej and vi not in e for u in e)\n",
    "    Nk = set(u for d in Dkj for e in H.incidence[d] if e != ek and vi not in e for u in e)\n",
    "\n",
    "    num = len(Nj & Dkj) + len(Djk & Nk)\n",
    "    den = len(Djk) + len(Dkj)\n",
    "\n",
    "    return num / den if den > 0 else 0\n",
    "\n",
    "clustering_hyper = {}\n",
    "for vi in H.nodes:\n",
    "    incident_edges = H.incidence[vi]\n",
    "    if len(incident_edges) <= 1:\n",
    "        clustering_hyper[vi] = 0.0\n",
    "        continue\n",
    "    eolist = []\n",
    "    for i in range(len(incident_edges)):\n",
    "        for j in range(i+1, len(incident_edges)):\n",
    "            ej = incident_edges[i]\n",
    "            ek = incident_edges[j]\n",
    "            eolist.append(extra_overlap(ej, ek, H, vi))\n",
    "    clustering_hyper[vi] = sum(eolist) / (len(incident_edges)**2)\n",
    "\n",
    "print(\"Node | Hypergraph Clustering\")\n",
    "for v in H.nodes:\n",
    "    print(f\"{v:>4} | {clustering_hyper[v]:.2f}\")"
   ]
  },
  {
   "cell_type": "markdown",
   "id": "e2c29a36-608e-4667-baf9-3835be446504",
   "metadata": {},
   "source": [
    "#### Clique projection"
   ]
  },
  {
   "cell_type": "code",
   "execution_count": 15,
   "id": "f6eef9d4-4dd8-4513-8e67-7e6bc6ec9e89",
   "metadata": {},
   "outputs": [
    {
     "name": "stdout",
     "output_type": "stream",
     "text": [
      "Node | Clustering (Projection)\n",
      "   0 | 1.00\n",
      "   1 | 0.50\n",
      "   2 | 0.50\n",
      "   3 | 1.00\n",
      "   4 | 0.50\n",
      "   5 | 1.00\n"
     ]
    }
   ],
   "source": [
    "# Compute clustering coefficient for the clique projection\n",
    "\n",
    "def compute_projection_clustering(G):\n",
    "    neighbors = {v: set() for v in G.nodes}\n",
    "    \n",
    "    for u, v in G.edges:\n",
    "        neighbors[u].add(v)\n",
    "        neighbors[v].add(u)\n",
    "    \n",
    "    clustering = {}\n",
    "    for v in G.nodes:\n",
    "        nbrs = neighbors[v]\n",
    "        k = len(nbrs)\n",
    "        if k < 2:\n",
    "            clustering[v] = 0.0\n",
    "            continue\n",
    "\n",
    "        # Count triangles: number of edges between neighbors\n",
    "        links = 0\n",
    "        nbrs_list = list(nbrs)\n",
    "        for i in range(len(nbrs_list)):\n",
    "            for j in range(i+1, len(nbrs_list)):\n",
    "                u = nbrs_list[i]\n",
    "                w = nbrs_list[j]\n",
    "                if u in neighbors[w]:\n",
    "                    links += 1\n",
    "\n",
    "        clustering[v] = 2 * links / (k * (k - 1))\n",
    "    \n",
    "    return clustering\n",
    "\n",
    "clustering_proj = compute_projection_clustering(G)\n",
    "print(\"Node | Clustering (Projection)\")\n",
    "for v in sorted(clustering_proj):\n",
    "    print(f\"{v:>4} | {clustering_proj[v]:.2f}\")"
   ]
  },
  {
   "cell_type": "markdown",
   "id": "1ec642ef-03e8-4392-91f6-d94e41957726",
   "metadata": {},
   "source": [
    "#### Let's compare..."
   ]
  },
  {
   "cell_type": "markdown",
   "id": "37be98b4-e404-4a8c-9bc5-c41810eaba4d",
   "metadata": {},
   "source": [
    "**Exercise 3.6:** Why might clustering be harder to define in hypergraphs than in graphs? What are we trying to preserve that doesn't exist in the pairwise case?"
   ]
  },
  {
   "cell_type": "markdown",
   "id": "f757fd36-9b45-4928-ae8d-e14cebb2e918",
   "metadata": {},
   "source": [
    "**Exercise 3.7:** Can you find a node where the hypergraph clustering is low but the clique projection clustering is high? Why does this happen?"
   ]
  },
  {
   "cell_type": "markdown",
   "id": "afb2e02b-4fd6-451d-9607-0d4f19c235e9",
   "metadata": {},
   "source": [
    "## 4. Summary and exploration"
   ]
  },
  {
   "cell_type": "markdown",
   "id": "578d6013-84d3-4293-83d9-e8965c70cab2",
   "metadata": {},
   "source": [
    "In this notebook, you have:\n",
    "\n",
    "* Constructed hypergraphs with group membership  \n",
    "* Learned how to create the clique projection of a hypergraph  \n",
    "* Explored definitions of hypergraph structural properties  \n",
    "* Compared those properties with their counterparts in pairwise networks\n",
    "\n",
    "We've seen that differences in how we represent the underlying structure of different systems (i.e., exclusively with pairwise edges like in graphs or with higher-order groups like in hypergraphs) can lead to fundamentally different insights into the interactions between nodes, particularly when the nodes belong to different groups."
   ]
  },
  {
   "cell_type": "markdown",
   "id": "6a92fee1-9019-4fae-aae3-fd7d2173e721",
   "metadata": {},
   "source": [
    "### Next steps\n",
    "\n",
    "Try the following extensions to deepen your understanding:\n",
    "\n",
    "* Work with larger hypergraphs (e.g., 20+ nodes)  \n",
    "* Modify the degree of homophily among groups and observe the effects  \n",
    "* Explore how these structural differences impact contagion dynamics  \n",
    "* Dive deeper into the theory and tools of hypergraph analysis\n",
    "* Explore how the choice of representation (graph vs. hypergraph) impacts our understanding of real-world systems like academic co-authorship, rumor spreading, protein-protein interactions, etc.\n",
    "\n",
    "#### If you're particularly motivated, you can find a follow-up tutorial on how to run social contagion processes on hypergraphs with nodes from different groups and measure the fairness of that spread in the tutorial.ipynb [here](https://github.com/moritz-laber/hypergraph-information-access-inequality)."
   ]
  },
  {
   "cell_type": "markdown",
   "id": "1b734d1c-52da-4257-a46c-61d9e3aeb260",
   "metadata": {},
   "source": [
    "### Further reading & tools\n",
    "\n",
    "| Topic | Resource |\n",
    "|-------|----------|\n",
    "| **Hypergraph clustering & representations** | Torres, Blevins, Bassett & Eliassi-Rad. The Why, How, and When of Representations for Complex Systems, *SIAM Review* 2021 ([here](https://epubs.siam.org/doi/epdf/10.1137/20M1355896)). |\n",
    "| **Hypergraph model with groups** | Laber, Dies, Ehlert, Klein & Eliassi-Rad. Effects of Higher-Order Interactions and Homophily on Information Access Inequality, *arXiv:2506.00156*, 2025 ([here](https://arxiv.org/abs/2506.00156)). |\n",
    "| **Python tools – HypergraphX (HGX)** | Lolito et al. HypergraphX: a library for higher-order network analysis, *J. Complex Netw.* 2023 ([here](https://academic.oup.com/comnet/article/11/3/cnad019/7180959)). |\n",
    "| **Python tools – HyperNetX (HNX)** | Praggastis et al. HyperNetX: A Python package for modeling complex network data as hypergraphs, *arxiv:2310.11626* 2023 ([here](https://arxiv.org/abs/2310.11626)). |\n",
    "| **Hypergraph homophily** | Veldt, Benson & Kleinberg. Combinatorial characterizations and impossibilities for higher-order homophily, *Science Advances*, 2023 ([here](https://www.science.org/doi/10.1126/sciadv.abq3200)). |"
   ]
  },
  {
   "cell_type": "markdown",
   "id": "2df87931-b17d-4d17-ad71-598cbf40fb24",
   "metadata": {},
   "source": [
    "### Bonus\n",
    "\n",
    "- **Podcast**: \"Hypergraphs, Simplicial Complexes and Graph Representations of Complex Systems with Tina Eliassi-Rad\" on TWIML [here](https://twimlai.com/podcast/twimlai/hypergraphs-simplicial-complexes-graph-representations-complex-systems-tina-eliassi-rad/)\n",
    "- **Python Library Overview**: check out the [HypergraphX GitHub and docs](https://github.com/HGX-Team/hypergraphx)\n"
   ]
  },
  {
   "cell_type": "markdown",
   "id": "57c70c10-3dad-4c13-80bb-2db668b75d4e",
   "metadata": {},
   "source": [
    "## 5. Solutions"
   ]
  },
  {
   "cell_type": "markdown",
   "id": "b7fd8504-4eab-4de9-b42b-ff67b6296d14",
   "metadata": {},
   "source": [
    "### **Exercise 1.1:** Try modifying the group memberships or edge structure. What happens if you add a 4-node edge?"
   ]
  },
  {
   "cell_type": "code",
   "execution_count": 16,
   "id": "f35d151c-79f4-4ef8-8d33-0c134167aa5b",
   "metadata": {},
   "outputs": [
    {
     "name": "stdout",
     "output_type": "stream",
     "text": [
      "Number of nodes: 6\n",
      "Number of hyperedges: 4\n",
      "Maximum edge size (rank): 4\n",
      "Node 0: degree = 2\n",
      "Node 1: degree = 2\n",
      "Node 2: degree = 2\n",
      "Node 3: degree = 2\n",
      "Node 4: degree = 3\n",
      "Node 5: degree = 2\n"
     ]
    }
   ],
   "source": [
    "# Define nodes and group memberships\n",
    "nodes = list(range(6))\n",
    "group = [0, 0, 0, 1, 1, 1]\n",
    "\n",
    "# Define hyperedges (add a 4-node edge)\n",
    "edges = [\n",
    "    {0, 1, 2},\n",
    "    {2, 3, 4},\n",
    "    {1, 4, 5},\n",
    "    {0, 3, 4, 5}  # New 4-node edge\n",
    "]\n",
    "\n",
    "# Create the hypergraph\n",
    "H = HyperGraph(nodes=nodes, edges=edges, group=group)\n",
    "\n",
    "# Let's print some basic diagnostics\n",
    "print(f\"Number of nodes: {H.N}\")\n",
    "print(f\"Number of hyperedges: {H.M}\")\n",
    "print(f\"Maximum edge size (rank): {H.rank}\")\n",
    "\n",
    "# Print node degrees\n",
    "for node in nodes:\n",
    "    print(f\"Node {node}: degree = {H.degree[node]}\")"
   ]
  },
  {
   "cell_type": "markdown",
   "id": "07ae43c0-96f7-4289-8027-fd7bf4745184",
   "metadata": {},
   "source": [
    "* Modifying group memberships will change which nodes are treated as minority or majority. This will affect statistics like homophily, degree breakdown by group, etc.\n",
    "* Adding a 4-node edge increases the maximum edge size (rank) of the hypergraph and changes the connectivity pattern. It can:\n",
    "    * Increase the degree of nodes involved\n",
    "    * Affect group interaction patterns (e.g., one large edge can bridge two groups)\n",
    "    * Cause a denser clique in the projection (adding up to $\\binom{4}{2} = 6$)"
   ]
  },
  {
   "cell_type": "markdown",
   "id": "6ba2ccb0-b7d3-4005-a925-448d8ff930e4",
   "metadata": {},
   "source": [
    "### **Exercise 3.1:** Is the hypergraph average degree larger or smaller than the clique projection average degree? Why might that be?"
   ]
  },
  {
   "cell_type": "markdown",
   "id": "f4765077-efda-4b83-903c-b0e1e8660959",
   "metadata": {},
   "source": [
    "* The **hypergraph average degree** tells us the average number of hyperedges each node belongs to.\n",
    "* The **clique projection average degree** tells us the average number of pairwise neighbors each node has after replacing every hyperedge with all possible two-node links (i.e., a clique).\n",
    "\n",
    "So even if a node belongs to only one or two hyperedges, those hyperedges may involve 3+ other nodes — leading to many pairwise edges in the projection.\n",
    "\n",
    "#### Why is the projection degree larger?\n",
    "Let’s consider a single hyperedge of size $𝑘$ That hyperedge contributes:\n",
    "* 1 to each of the $k$ nodes' degree in the hypergraph\n",
    "* $\\binom{k}{2}$ pairwise edges in the projection\n",
    "\n",
    "Thus, hypergraph degree scales linearly with edge count, while projection degree can scale quadratically with edge size."
   ]
  },
  {
   "cell_type": "markdown",
   "id": "ae013105-b0eb-4599-8348-208cf154d656",
   "metadata": {},
   "source": [
    "### **Exercise 3.2:** In a pairwise network, the maximum potential degree of a node is $n-1$ (i.e., if it connects to all other nodes in the network. What's the maximum potential degree of a node in a hypergraph?"
   ]
  },
  {
   "cell_type": "markdown",
   "id": "f8dad1a6-3b7d-488f-9098-1d826c431fc0",
   "metadata": {},
   "source": [
    "First, let’s recall:\n",
    "* In a pairwise graph, a node’s degree is the number of other nodes it’s directly connected to.\n",
    "* In a hypergraph, a node’s degree is the number of hyperedges it belongs to — regardless of how many other nodes are in each edge.\n",
    "\n",
    "So the question becomes: **What’s the maximum number of hyperedges a node could appear in?**\n",
    "\n",
    "There is no fixed upper bound of $n−1$ like in pairwise graphs. The maximum potential degree of a node in a hypergraph depends on:\n",
    "* The total number of hyperedges\n",
    "* The sizes of those hyperedges\n",
    "* Whether we allow repeated inclusion of the node across all hyperedges\n",
    "\n",
    "If you’re allowed to:\n",
    "* Create as many hyperedges as you want, and\n",
    "* Include the node in every one of them,\n",
    "\n",
    "Then:\n",
    "$$\\text{Maximum degree of a node}=M$$\n",
    "Where $M$ is the total number of hyperedges.\n",
    "\n",
    "Alternatively, if we’re asking: What is the maximum number of distinct hyperedges that could include a node in an $n$-node hypergraph?\n",
    "\n",
    "Then, the upper bound is the number of subsets of nodes containing that node, i.e.,\n",
    "$$\\sum_{s=2}^n = \\binom{n-1}{s-1} = 2^{n-1}-1$$\n",
    "This is because for every hyperedge of size $s \\geq 2$ that includes the node, we must choose $s-1$ other nodes from the remaining $n-1$."
   ]
  },
  {
   "cell_type": "markdown",
   "id": "908ebb94-e288-43a3-8285-00d7fa503312",
   "metadata": {},
   "source": [
    "### **Exercise 3.3:** How can we interpret these homophily scores? Are interactions more homogenous (within-group) or heterogeneous?"
   ]
  },
  {
   "cell_type": "markdown",
   "id": "d4de9c48-a084-49ff-bccf-3c452e27f3dc",
   "metadata": {},
   "source": [
    "If the hyperedge homophily output is\n",
    "* Size: 3\n",
    "* Group 0: -, 1.60, -, 2.40\n",
    "* Group 1: -, -, 2.00, -\n",
    "\n",
    "This table corresponds to hyperedges of size 3. For each group, the values indicate how overrepresented or underrepresented different compositions of group members are compared to a random baseline.\n",
    "\n",
    "Let’s interpret the entries:\n",
    "\n",
    "* **For Group 0:**\n",
    "    * The column labeled 1.60 corresponds to hyperedges of size 3 that include 2 majority (Group 0) and 1 minority (Group 1).\n",
    "    * The column labeled 2.40 corresponds to 3 majority nodes (i.e., entirely within-group).\n",
    "Both scores are greater than 1, meaning these configurations appear more often than expected under a random model.\n",
    "\n",
    "**Conclusion:** Group 0 tends to appear in homogeneous or majority-dominated hyperedges more than would be expected by chance.\n",
    "\n",
    "* **For Group 1:**\n",
    "    * The value 2.00 occurs for edges with 2 Group 1 nodes and 1 Group 0.\n",
    "Again, this is greater than 1, indicating overrepresentation of in-group majority for Group 1, though fewer such hyperedges exist overall.\n",
    "\n",
    "**Conclusion:** Group 1 also tends to appear in Group 1–heavy hyperedges more than expected, but there's less data for fully homogeneous configurations (likely due to Group 1 being smaller)."
   ]
  },
  {
   "cell_type": "markdown",
   "id": "17eb4f72-e260-4465-8244-59c2ebb11431",
   "metadata": {},
   "source": [
    "### **Exercise 3.4:** What are the differences between the homophily scores on the hypergraph and the clique projection?"
   ]
  },
  {
   "cell_type": "markdown",
   "id": "9677f80d-b058-47f6-9e67-9314314b8136",
   "metadata": {},
   "source": [
    "If the **hypergraph homophily** output is:\n",
    "\n",
    "* Size 3\n",
    "    * Group 0: –, 1.60, –, 2.40\n",
    "    * Group 1: –, –, 2.00, –\n",
    "\n",
    "and the clique projection homophily output is:\n",
    "\n",
    "* Size 2\n",
    "    * Group 0: –, 0.80, 1.20\n",
    "    * Group 1: –, 1.00, 1.00\n",
    "\n",
    "then we can make the following observations:\n",
    "\n",
    "* **For Group 0:**\n",
    "    * In the **hypergraph:**\n",
    "        * The score 2.40 indicates that hyperedges with three Group 0 members are substantially overrepresented relative to a random baseline.\n",
    "        * The score 1.60 indicates that hyperedges with two Group 0 members and one Group 1 member also occur more often than expected.\n",
    "    * In the **clique projection:**\n",
    "        * The score 1.20 shows a slight overrepresentation of Group 0–Group 0 edges.\n",
    "        * The score 0.80 shows an underrepresentation of edges between Group 0 and Group 1.\n",
    "\n",
    "* **For Group 1:**\n",
    "    * In the **hypergraph:**\n",
    "        * The score 2.00 indicates strong overrepresentation of hyperedges with two Group 1 members and one Group 0 member.\n",
    "        * No other types involving Group 1 occur frequently enough to report.\n",
    "    * In the **clique projection:**\n",
    "        * Both Group 1–Group 1 and Group 1–Group 0 edges have a score of 1.00, meaning they appear exactly as often as expected under random mixing."
   ]
  },
  {
   "cell_type": "markdown",
   "id": "a4c62e97-0e9e-4f5a-8710-086f13bc3625",
   "metadata": {},
   "source": [
    "### **Exercise 3.5:** Is the clique projection more or less homophilous than the hypergraph?"
   ]
  },
  {
   "cell_type": "markdown",
   "id": "ad854571-97d6-40c4-9b78-f23bf514e64b",
   "metadata": {},
   "source": [
    "In the example above, we see that\n",
    "* **Group 0** appears homophilous in both representations, though the clique projection compresses the distinctions between 2-vs-3-member majority-group edges.\n",
    "* The homophily pattern observed for **Group 1** in the hypergraph is completely lost in the projection, which suggests neutral mixing instead.\n",
    "\n",
    "Overall Takeaway:\n",
    "\n",
    "* **Group 0** appears homophilous in both the hypergraph and the projection, though the hypergraph captures a richer set of group compositions.\n",
    "* **Group 1’s** homophily is visible only in the hypergraph structure. The projection erases this signal by flattening group structure into pairwise links.\n",
    "\n",
    "In this particular example, the clique projection is *less* homophilous than the hypergraph (i.e., more neutral).\n",
    "\n",
    "This example illustrates a key limitation of clique projections: they often underestimate or obscure higher-order mixing patterns, especially for minority groups. **This is particularly important in situations where we are underestimating homophily given that homophily often exacerbates inequality in processes such as contagion on networks.**"
   ]
  },
  {
   "cell_type": "markdown",
   "id": "11aa7fea-8c55-49c1-823e-f70bc78866bb",
   "metadata": {},
   "source": [
    "### **Exercise 3.6:** Why might clustering be harder to define in hypergraphs than in graphs? What are we trying to preserve that doesn't exist in the pairwise case?"
   ]
  },
  {
   "cell_type": "markdown",
   "id": "5c62ffe8-c044-447d-878e-cbe8d2ebd53e",
   "metadata": {},
   "source": [
    "**In Graphs:**\n",
    "\n",
    "Clustering is easy to define in pairwise networks because every edge connects exactly two nodes. The standard local clustering coefficient for a node $v_i$is:\n",
    "$$C_i = \\frac{2 \\cdot \\text{\\# of triangles through } v_i}{k_i(k_i - 1)}$$\n",
    "\n",
    "This has a simple interpretation: it measures how many of a node’s neighbors are connected to each other — i.e., how likely a “friend of a friend” is also a friend.\n",
    "\n",
    "**In Hypergraphs:**\n",
    "\n",
    "Hyperedges connect two or more nodes, so the concept of “clustering” becomes more ambiguous:\n",
    "\n",
    "* Do we count triangles? What is a triangle if one edge already connects three nodes?\n",
    "* What counts as two neighbors of a node being connected “without” that node?\n",
    "* Is a large hyperedge inherently clustered or not?\n",
    "\n",
    "These ambiguities mean we can’t directly apply the triangle-based logic of pairwise graphs.\n",
    "\n",
    "**What Makes It Hard?**\n",
    "\n",
    "Clustering in hypergraphs is harder because:\n",
    "\n",
    "* **Higher-order context matters:** A hyperedge may already contain all of a node’s neighbors — making additional edges unnecessary for closeness.\n",
    "* **Overlapping group membership:** Two neighbors of a node may be indirectly connected through shared membership in other hyperedges, not a direct triangle.\n",
    "* **Multiple edge sizes:** Clustering can depend not just on \"are my neighbors connected?\" but on how large those shared contexts are.\n",
    "\n",
    "In defining hypergraph clustering, we're trying to capture the idea of: “Do my neighbors interact independently of me?” That is, are my neighbors connected through other group interactions that I am not part of? This reflects redundancy or community cohesion in higher-order interactions — something that doesn’t show up in pairwise networks, where every connection is binary.\n",
    "\n",
    "Ultimately, good definitions (like the extra overlap from Torres et al.) aim to preserve the idea of “neighborhood cohesion” without relying on the focal node, which is fundamentally **richer and harder** than in graphs."
   ]
  },
  {
   "cell_type": "markdown",
   "id": "5901e2bd-06c7-4fac-8ca5-dd234a193650",
   "metadata": {},
   "source": [
    "### **Exercise 3.7:** Can you find a node where the hypergraph clustering is low but the clique projection clustering is high? Why does this happen?"
   ]
  },
  {
   "cell_type": "markdown",
   "id": "638b8cb9-25dc-4bf3-a8fc-b9205982e1f1",
   "metadata": {},
   "source": [
    "In our example, the **hypergraph** had three nodes with hypergraph clustering equal to 0.00 (nodes 0, 3, and 5) and three nodes with hypergraph clustering equal to 0.12 (nodes 1, 2, and 4).\n",
    "\n",
    "On the other hand, the **clique projection** had three nodes with clustering equal to 0.50 (nodes 1, 2, and 4) and three nodes with clustering equal to 1.00 (nodes 0, 3, and 5).\n",
    "\n",
    "Overall, **the clustering coefficients are anti-correlated. Nodes with high hypergraph clustering have low pairwise clustering and vice versa!**\n",
    "\n",
    "For example, take node 0. It's hypergraph clustering is 0.00 and its clique projection clustering is 1.00\n",
    "\n",
    "This means:\n",
    "* In the hypergraph, node 0’s neighbors don’t interact with each other independently of node 0.\n",
    "* In the projection, node 0 is part of a fully connected neighborhood — every pair of its neighbors is also connected.\n",
    "\n",
    "This occurs because hypergraph clustering asks:\n",
    "\n",
    "> Are my neighbors connected via hyperedges that do not include me?\n",
    "\n",
    "In this case, node 0 is likely in a single hyperedge (e.g., {0, 1, 2}), and there are no additional edges connecting 1 and 2 on their own. That’s why its hypergraph clustering is 0.00 — no extra overlap.\n",
    "\n",
    "In the projection, that one hyperedge {0, 1, 2} gets converted to 3 edges: (0,1), (0,2), and (1,2).\n",
    "\n",
    "So node 0’s neighbors (1 and 2) appear connected, even though they were never connected without 0.\n",
    "\n",
    "**This artificially inflates the clustering coefficient in the projection — to the maximum value of 1.00.**"
   ]
  }
 ],
 "metadata": {
  "kernelspec": {
   "display_name": "Python 3 (ipykernel)",
   "language": "python",
   "name": "python3"
  },
  "language_info": {
   "codemirror_mode": {
    "name": "ipython",
    "version": 3
   },
   "file_extension": ".py",
   "mimetype": "text/x-python",
   "name": "python",
   "nbconvert_exporter": "python",
   "pygments_lexer": "ipython3",
   "version": "3.11.5"
  }
 },
 "nbformat": 4,
 "nbformat_minor": 5
}
